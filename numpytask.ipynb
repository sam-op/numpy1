{
 "cells": [
  {
   "cell_type": "code",
   "execution_count": 2,
   "id": "2b2c10c4",
   "metadata": {},
   "outputs": [
    {
     "name": "stdout",
     "output_type": "stream",
     "text": [
      "Mean : 33.0\n",
      "standard deviation: 15.556349186104045\n"
     ]
    }
   ],
   "source": [
    "import numpy as np\n",
    "\n",
    "arr = np.array([11,22,33,44,55])\n",
    "\n",
    "print(\"Mean :\",np.mean(arr))\n",
    "print(\"standard deviation:\",np.std(arr))"
   ]
  },
  {
   "cell_type": "code",
   "execution_count": 21,
   "id": "a0a8966d",
   "metadata": {},
   "outputs": [
    {
     "name": "stdout",
     "output_type": "stream",
     "text": [
      "Random Matrix:\n",
      "[[27 41 39 11 30]\n",
      " [49 35 44 36 33]\n",
      " [32 36 27 46 21]\n",
      " [21 11 10 42 29]\n",
      " [40 37 44  7 16]]\n",
      "\n",
      "Minimum values along each row:\n",
      "[11 33 21 10  7]\n",
      "Maximum values along each row:\n",
      "[41 49 46 42 44]\n",
      "\n",
      "Minimum values along each column:\n",
      "[21 11 10  7 16]\n",
      "Maximum values along each column:\n",
      "[49 41 44 46 33]\n"
     ]
    }
   ],
   "source": [
    "import numpy as np\n",
    "\n",
    "matrix = np.random.randint(1, 50, size=(5, 5))\n",
    "\n",
    "print(\"Random Matrix:\")\n",
    "print(matrix)\n",
    "min_row_values = np.min(matrix, axis=1)\n",
    "max_row_values = np.max(matrix, axis=1)\n",
    "\n",
    "print(\"\\nMinimum values along each row:\")\n",
    "print(min_row_values)\n",
    "print(\"Maximum values along each row:\")\n",
    "print(max_row_values)\n",
    "\n",
    "min_col_values = np.min(matrix, axis=0)\n",
    "max_col_values = np.max(matrix, axis=0)\n",
    "\n",
    "print(\"\\nMinimum values along each column:\")\n",
    "print(min_col_values)\n",
    "print(\"Maximum values along each column:\")\n",
    "print(max_col_values)"
   ]
  },
  {
   "cell_type": "code",
   "execution_count": null,
   "id": "bbb525f7",
   "metadata": {},
   "outputs": [],
   "source": []
  },
  {
   "cell_type": "code",
   "execution_count": 22,
   "id": "c5fc8ab2",
   "metadata": {},
   "outputs": [
    {
     "name": "stdout",
     "output_type": "stream",
     "text": [
      "Cosine Similarity: 0.9746318461970762\n"
     ]
    }
   ],
   "source": [
    "import numpy as np\n",
    "\n",
    "def cosine_similarity(a, b):\n",
    "    dot_product = np.dot(a, b)\n",
    "    norm_a = np.linalg.norm(a)\n",
    "    norm_b = np.linalg.norm(b)\n",
    "    similarity = dot_product / (norm_a * norm_b)\n",
    "    return similarity\n",
    "\n",
    "vector1 = np.array([1, 2, 3])\n",
    "vector2 = np.array([4, 5, 6])\n",
    "\n",
    "print(\"Cosine Similarity:\", cosine_similarity(vector1, vector2))\n"
   ]
  },
  {
   "cell_type": "code",
   "execution_count": null,
   "id": "dced0c7d",
   "metadata": {},
   "outputs": [],
   "source": []
  }
 ],
 "metadata": {
  "kernelspec": {
   "display_name": "Python 3 (ipykernel)",
   "language": "python",
   "name": "python3"
  },
  "language_info": {
   "codemirror_mode": {
    "name": "ipython",
    "version": 3
   },
   "file_extension": ".py",
   "mimetype": "text/x-python",
   "name": "python",
   "nbconvert_exporter": "python",
   "pygments_lexer": "ipython3",
   "version": "3.11.5"
  }
 },
 "nbformat": 4,
 "nbformat_minor": 5
}
